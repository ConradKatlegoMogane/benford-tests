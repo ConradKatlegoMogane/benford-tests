{
  "cells": [
    {
      "cell_type": "markdown",
      "metadata": {
        "id": "HZ1aLzxVHy1c"
      },
      "source": [
        "# **Benford Law**\n",
        "\n",
        "---\n",
        "\n"
      ]
    },
    {
      "cell_type": "markdown",
      "metadata": {
        "id": "ftY28SNOsY2u"
      },
      "source": [
        "Also known as the first digit rule. **Benford's law** states that the leading digit in many real-life sets of numerical data is likely to be small.  **The number 1** appears as the leading significant digit **roughly 30%** of the time in sets that respect the law, while 9 appears as the leading significant digit less than 5% of the time. The digits would appear roughly 11.1 percent of the time if they were dispersed evenly. Benford's law also predicts the distribution of second, third, and digit combinations, among other things."
      ]
    },
    {
      "cell_type": "markdown",
      "metadata": {
        "id": "cJ7GIz-Tzdgo"
      },
      "source": [
        "Using a test dataset from google colab of the carlifornia housing dataset, i focused on the population column with 17000 values.\n",
        "\n",
        "---\n",
        "\n"
      ]
    },
    {
      "cell_type": "code",
      "execution_count": null,
      "metadata": {
        "id": "cWVqCoQ0edgd"
      },
      "outputs": [],
      "source": [
        "#libraries\n",
        "import pandas as pd\n",
        "import matplotlib.pyplot as plt\n",
        "import numpy as np\n",
        "import seaborn as sns\n",
        "#Loading datsset\n",
        "cali_house = pd.read_csv(r\"C:\\Users\\Conrad_Pandora\\Downloads\\california_housing_train.csv\")\n",
        "#Feature engineering\n",
        "cali_house\n",
        "num_set = cali_house['population'].astype(int)\n",
        "first_digit_set=[]"
      ]
    },
    {
      "cell_type": "code",
      "execution_count": null,
      "metadata": {
        "id": "t43qiPm_yvf5",
        "outputId": "bf53aaca-279b-4dd3-bcac-b72ef639b4f7"
      },
      "outputs": [
        {
          "data": {
            "text/plain": [
              "17000"
            ]
          },
          "execution_count": 3,
          "metadata": {},
          "output_type": "execute_result"
        }
      ],
      "source": [
        "len(cali_house)"
      ]
    },
    {
      "cell_type": "code",
      "execution_count": null,
      "metadata": {
        "colab": {
          "base_uri": "https://localhost:8080/"
        },
        "id": "v4OyY3tp2MGS",
        "outputId": "c3851846-cdfb-4731-c46d-9c43963b32f9"
      },
      "outputs": [
        {
          "name": "stdout",
          "output_type": "stream",
          "text": [
            "<class 'pandas.core.frame.DataFrame'>\n",
            "RangeIndex: 17000 entries, 0 to 16999\n",
            "Data columns (total 9 columns):\n",
            " #   Column              Non-Null Count  Dtype  \n",
            "---  ------              --------------  -----  \n",
            " 0   longitude           17000 non-null  float64\n",
            " 1   latitude            17000 non-null  float64\n",
            " 2   housing_median_age  17000 non-null  float64\n",
            " 3   total_rooms         17000 non-null  float64\n",
            " 4   total_bedrooms      17000 non-null  float64\n",
            " 5   population          17000 non-null  float64\n",
            " 6   households          17000 non-null  float64\n",
            " 7   median_income       17000 non-null  float64\n",
            " 8   median_house_value  17000 non-null  float64\n",
            "dtypes: float64(9)\n",
            "memory usage: 1.2 MB\n"
          ]
        }
      ],
      "source": [
        "cali_house.info()"
      ]
    },
    {
      "cell_type": "code",
      "execution_count": null,
      "metadata": {
        "colab": {
          "base_uri": "https://localhost:8080/"
        },
        "id": "V_mfMQuCf2o5",
        "outputId": "fd8b64fd-95ea-4e8f-9841-068a69bfa681"
      },
      "outputs": [
        {
          "name": "stdout",
          "output_type": "stream",
          "text": [
            "There are 7515 leading 1 s\n",
            "There are 2201 leading 2 s\n",
            "There are 1072 leading 3 s\n",
            "There are 769 leading 4 s\n",
            "There are 848 leading 5 s\n",
            "There are 1024 leading 6 s\n",
            "There are 1169 leading 7 s\n",
            "There are 1235 leading 8 s\n",
            "There are 1167 leading 9 s\n"
          ]
        }
      ],
      "source": [
        "#creating a function to extract first digit in sample \n",
        "def get_loading_digit(number):\n",
        "  #convert the number to a string\n",
        "  #take the first character\n",
        "  #convert back to an integer and return the value\n",
        "  return int(str(number)[:1])\n",
        "\n",
        "#loading digits into dictionary\n",
        "for d in num_set:\n",
        "  first_digit_set.append(get_loading_digit(d))\n",
        "#Counting the leading digits in dict\n",
        "for i in list (range(1,10)):\n",
        "  print('There are ' + str(first_digit_set.count(i))+ ' leading ' + str(i) + ' s')"
      ]
    },
    {
      "cell_type": "markdown",
      "metadata": {
        "id": "EuIvmkO926JB"
      },
      "source": [
        "**Plotting the distribution**"
      ]
    },
    {
      "cell_type": "code",
      "execution_count": null,
      "metadata": {
        "id": "Aoj-zfuLyvf8"
      },
      "outputs": [],
      "source": [
        "#Creating the First digits & expected frequency distribution\n",
        "data = {'lead_digit': [1, 2, 3, 4, 5, 6, 7, 8, 9] }\n",
        "ben = pd.DataFrame(data,columns=['lead_digit'])\n",
        "ben['Benford_Dist'] = np.log10(1+(1/ben['lead_digit']))*100\n",
        "ben\n",
        "\n",
        "#value counts in observed dataset & frequency distribution\n",
        "counts = df.value_counts().sort_index()\n",
        "ben_obs = pd.DataFrame(counts,columns=['observed_count'])\n",
        "ben_obs['Observed_Dist']= (ben_obs['digits_obs']/17000)*100\n",
        "obs = ben_obs.reset_index()"
      ]
    },
    {
      "cell_type": "code",
      "execution_count": null,
      "metadata": {
        "scrolled": true,
        "id": "Dbqfl4tbyvf9",
        "outputId": "b8f0e70b-4c86-4eb8-f3af-cfdf7c2df100"
      },
      "outputs": [
        {
          "data": {
            "text/html": [
              "\n",
              "    <div style=\"display:flex; gap:50px; justify-content:flex-start;\">\n",
              "        <div> <h3>Observed</h3> <div>\n",
              "<style scoped>\n",
              "    .dataframe tbody tr th:only-of-type {\n",
              "        vertical-align: middle;\n",
              "    }\n",
              "\n",
              "    .dataframe tbody tr th {\n",
              "        vertical-align: top;\n",
              "    }\n",
              "\n",
              "    .dataframe thead th {\n",
              "        text-align: right;\n",
              "    }\n",
              "</style>\n",
              "<table border=\"1\" class=\"dataframe\">\n",
              "  <thead>\n",
              "    <tr style=\"text-align: right;\">\n",
              "      <th></th>\n",
              "      <th>digits_obs</th>\n",
              "      <th>Observed_Dist</th>\n",
              "    </tr>\n",
              "    <tr>\n",
              "      <th>first_digit</th>\n",
              "      <th></th>\n",
              "      <th></th>\n",
              "    </tr>\n",
              "  </thead>\n",
              "  <tbody>\n",
              "    <tr>\n",
              "      <th>1</th>\n",
              "      <td>7515</td>\n",
              "      <td>44.205882</td>\n",
              "    </tr>\n",
              "    <tr>\n",
              "      <th>2</th>\n",
              "      <td>2201</td>\n",
              "      <td>12.947059</td>\n",
              "    </tr>\n",
              "    <tr>\n",
              "      <th>3</th>\n",
              "      <td>1072</td>\n",
              "      <td>6.305882</td>\n",
              "    </tr>\n",
              "    <tr>\n",
              "      <th>4</th>\n",
              "      <td>769</td>\n",
              "      <td>4.523529</td>\n",
              "    </tr>\n",
              "    <tr>\n",
              "      <th>5</th>\n",
              "      <td>848</td>\n",
              "      <td>4.988235</td>\n",
              "    </tr>\n",
              "    <tr>\n",
              "      <th>6</th>\n",
              "      <td>1024</td>\n",
              "      <td>6.023529</td>\n",
              "    </tr>\n",
              "    <tr>\n",
              "      <th>7</th>\n",
              "      <td>1169</td>\n",
              "      <td>6.876471</td>\n",
              "    </tr>\n",
              "    <tr>\n",
              "      <th>8</th>\n",
              "      <td>1235</td>\n",
              "      <td>7.264706</td>\n",
              "    </tr>\n",
              "    <tr>\n",
              "      <th>9</th>\n",
              "      <td>1167</td>\n",
              "      <td>6.864706</td>\n",
              "    </tr>\n",
              "  </tbody>\n",
              "</table>\n",
              "</div></div><div> <h3>Benford</h3> <div>\n",
              "<style scoped>\n",
              "    .dataframe tbody tr th:only-of-type {\n",
              "        vertical-align: middle;\n",
              "    }\n",
              "\n",
              "    .dataframe tbody tr th {\n",
              "        vertical-align: top;\n",
              "    }\n",
              "\n",
              "    .dataframe thead th {\n",
              "        text-align: right;\n",
              "    }\n",
              "</style>\n",
              "<table border=\"1\" class=\"dataframe\">\n",
              "  <thead>\n",
              "    <tr style=\"text-align: right;\">\n",
              "      <th></th>\n",
              "      <th>Benford_Dist</th>\n",
              "    </tr>\n",
              "    <tr>\n",
              "      <th>lead_digit</th>\n",
              "      <th></th>\n",
              "    </tr>\n",
              "  </thead>\n",
              "  <tbody>\n",
              "    <tr>\n",
              "      <th>1</th>\n",
              "      <td>30.103000</td>\n",
              "    </tr>\n",
              "    <tr>\n",
              "      <th>2</th>\n",
              "      <td>17.609126</td>\n",
              "    </tr>\n",
              "    <tr>\n",
              "      <th>3</th>\n",
              "      <td>12.493874</td>\n",
              "    </tr>\n",
              "    <tr>\n",
              "      <th>4</th>\n",
              "      <td>9.691001</td>\n",
              "    </tr>\n",
              "    <tr>\n",
              "      <th>5</th>\n",
              "      <td>7.918125</td>\n",
              "    </tr>\n",
              "    <tr>\n",
              "      <th>6</th>\n",
              "      <td>6.694679</td>\n",
              "    </tr>\n",
              "    <tr>\n",
              "      <th>7</th>\n",
              "      <td>5.799195</td>\n",
              "    </tr>\n",
              "    <tr>\n",
              "      <th>8</th>\n",
              "      <td>5.115252</td>\n",
              "    </tr>\n",
              "    <tr>\n",
              "      <th>9</th>\n",
              "      <td>4.575749</td>\n",
              "    </tr>\n",
              "  </tbody>\n",
              "</table>\n",
              "</div></div>\n",
              "    </div>\n",
              "    "
            ]
          },
          "metadata": {},
          "output_type": "display_data"
        }
      ],
      "source": [
        "from IPython.display import display_html\n",
        "\n",
        "def display_dfs(dfs, gap=50, justify='center'):\n",
        "    html = \"\"\n",
        "    for title, df in dfs.items():  \n",
        "        df_html = df._repr_html_()\n",
        "        cur_html = f'<div> <h3>{title}</h3> {df_html}</div>'\n",
        "        html +=cur_html\n",
        "    html= f\"\"\"\n",
        "    <div style=\"display:flex; gap:{gap}px; justify-content:{justify};\">\n",
        "        {html}\n",
        "    </div>\n",
        "    \"\"\"\n",
        "    display_html(html, raw=True)\n",
        "\n",
        "dfs = {'Observed':ben_obs, 'Benford':ben.set_index('lead_digit')}\n",
        "display_dfs(dfs, justify='flex-start')"
      ]
    },
    {
      "cell_type": "code",
      "execution_count": null,
      "metadata": {
        "id": "JIcvxgg0yvf9",
        "outputId": "8004417b-0e03-43c9-a2c5-4b4cddc8cf33"
      },
      "outputs": [
        {
          "data": {
            "text/html": [
              "<div>\n",
              "<style scoped>\n",
              "    .dataframe tbody tr th:only-of-type {\n",
              "        vertical-align: middle;\n",
              "    }\n",
              "\n",
              "    .dataframe tbody tr th {\n",
              "        vertical-align: top;\n",
              "    }\n",
              "\n",
              "    .dataframe thead th {\n",
              "        text-align: right;\n",
              "    }\n",
              "</style>\n",
              "<table border=\"1\" class=\"dataframe\">\n",
              "  <thead>\n",
              "    <tr style=\"text-align: right;\">\n",
              "      <th></th>\n",
              "      <th>first_digit</th>\n",
              "      <th>digits_obs</th>\n",
              "      <th>Observed_Dist</th>\n",
              "      <th>Benford_Dist</th>\n",
              "    </tr>\n",
              "  </thead>\n",
              "  <tbody>\n",
              "    <tr>\n",
              "      <th>0</th>\n",
              "      <td>1</td>\n",
              "      <td>7515</td>\n",
              "      <td>44.205882</td>\n",
              "      <td>30.103000</td>\n",
              "    </tr>\n",
              "    <tr>\n",
              "      <th>1</th>\n",
              "      <td>2</td>\n",
              "      <td>2201</td>\n",
              "      <td>12.947059</td>\n",
              "      <td>17.609126</td>\n",
              "    </tr>\n",
              "    <tr>\n",
              "      <th>2</th>\n",
              "      <td>3</td>\n",
              "      <td>1072</td>\n",
              "      <td>6.305882</td>\n",
              "      <td>12.493874</td>\n",
              "    </tr>\n",
              "    <tr>\n",
              "      <th>3</th>\n",
              "      <td>4</td>\n",
              "      <td>769</td>\n",
              "      <td>4.523529</td>\n",
              "      <td>9.691001</td>\n",
              "    </tr>\n",
              "    <tr>\n",
              "      <th>4</th>\n",
              "      <td>5</td>\n",
              "      <td>848</td>\n",
              "      <td>4.988235</td>\n",
              "      <td>7.918125</td>\n",
              "    </tr>\n",
              "    <tr>\n",
              "      <th>5</th>\n",
              "      <td>6</td>\n",
              "      <td>1024</td>\n",
              "      <td>6.023529</td>\n",
              "      <td>6.694679</td>\n",
              "    </tr>\n",
              "    <tr>\n",
              "      <th>6</th>\n",
              "      <td>7</td>\n",
              "      <td>1169</td>\n",
              "      <td>6.876471</td>\n",
              "      <td>5.799195</td>\n",
              "    </tr>\n",
              "    <tr>\n",
              "      <th>7</th>\n",
              "      <td>8</td>\n",
              "      <td>1235</td>\n",
              "      <td>7.264706</td>\n",
              "      <td>5.115252</td>\n",
              "    </tr>\n",
              "    <tr>\n",
              "      <th>8</th>\n",
              "      <td>9</td>\n",
              "      <td>1167</td>\n",
              "      <td>6.864706</td>\n",
              "      <td>4.575749</td>\n",
              "    </tr>\n",
              "  </tbody>\n",
              "</table>\n",
              "</div>"
            ],
            "text/plain": [
              "   first_digit  digits_obs  Observed_Dist  Benford_Dist\n",
              "0            1        7515      44.205882     30.103000\n",
              "1            2        2201      12.947059     17.609126\n",
              "2            3        1072       6.305882     12.493874\n",
              "3            4         769       4.523529      9.691001\n",
              "4            5         848       4.988235      7.918125\n",
              "5            6        1024       6.023529      6.694679\n",
              "6            7        1169       6.876471      5.799195\n",
              "7            8        1235       7.264706      5.115252\n",
              "8            9        1167       6.864706      4.575749"
            ]
          },
          "execution_count": 12,
          "metadata": {},
          "output_type": "execute_result"
        }
      ],
      "source": [
        "all_ = pd.concat([obs,ben],axis = 1)\n",
        "all_.drop(['lead_digit'],axis = 1)"
      ]
    },
    {
      "cell_type": "code",
      "execution_count": null,
      "metadata": {
        "id": "VkBGi-4Pyvf-",
        "outputId": "c69eb06f-fe94-4432-ccb7-2597feb0cc22"
      },
      "outputs": [
        {
          "data": {
            "image/png": "[encoded data removed]",
            "text/plain": [
              "<Figure size 432x288 with 1 Axes>"
            ]
          },
          "metadata": {
            "needs_background": "light"
          },
          "output_type": "display_data"
        }
      ],
      "source": [
        "sns.lineplot(y= 'Benford_Dist' ,x='first_digit', data = all_)\n",
        "sns.lineplot(y= 'Observed_Dist',x='first_digit' , data = all_)\n",
        "plt.legend(labels=['Benford_Dist','Observed_Dist'])\n",
        "plt.ylabel('Distribution(%)')\n",
        "sns.set_style('darkgrid')"
      ]
    },
    {
      "cell_type": "markdown",
      "metadata": {
        "id": "DEqejD3ryvf-"
      },
      "source": [
        "The housing dataset shows conformance with the benford distribution pattern"
      ]
    },
    {
      "cell_type": "markdown",
      "metadata": {
        "id": "vyvazQdqf3de"
      },
      "source": [
        "# **Possible Applications**"
      ]
    },
    {
      "cell_type": "markdown",
      "metadata": {
        "id": "habp3YbBosm0"
      },
      "source": [
        "https://mathworld.wolfram.com/BenfordsLaw.html"
      ]
    },
    {
      "cell_type": "markdown",
      "source": [
        "The following data set was scrapped from Automobile sales "
      ],
      "metadata": {
        "id": "wcC25D-DzEcN"
      }
    },
    {
      "cell_type": "code",
      "source": [
        ""
      ],
      "metadata": {
        "id": "SezoVyafzDF9"
      },
      "execution_count": null,
      "outputs": []
    }
  ],
  "metadata": {
    "colab": {
      "collapsed_sections": [],
      "name": "Benford_Test.ipynb",
      "provenance": []
    },
    "kernelspec": {
      "display_name": "Python 3",
      "language": "python",
      "name": "python3"
    },
    "language_info": {
      "codemirror_mode": {
        "name": "ipython",
        "version": 3
      },
      "file_extension": ".py",
      "mimetype": "text/x-python",
      "name": "python",
      "nbconvert_exporter": "python",
      "pygments_lexer": "ipython3",
      "version": "3.8.5"
    }
  },
  "nbformat": 4,
  "nbformat_minor": 0
}